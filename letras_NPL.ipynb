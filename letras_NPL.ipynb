{
  "nbformat": 4,
  "nbformat_minor": 0,
  "metadata": {
    "colab": {
      "provenance": [],
      "mount_file_id": "1LHWc61jLC5FJc6incAyNTzyHk4hYvr45",
      "authorship_tag": "ABX9TyNZYU7PxNeF8m6f5DL+5IwB",
      "include_colab_link": true
    },
    "kernelspec": {
      "name": "python3",
      "display_name": "Python 3"
    },
    "language_info": {
      "name": "python"
    }
  },
  "cells": [
    {
      "cell_type": "markdown",
      "metadata": {
        "id": "view-in-github",
        "colab_type": "text"
      },
      "source": [
        "<a href=\"https://colab.research.google.com/github/maxlopvaz/maxlopvaz/blob/main/letras_NPL.ipynb\" target=\"_parent\"><img src=\"https://colab.research.google.com/assets/colab-badge.svg\" alt=\"Open In Colab\"/></a>"
      ]
    },
    {
      "cell_type": "code",
      "source": [
        "import re\n",
        "from collections import Counter\n",
        "from textblob import TextBlob  # Para el análisis de sentimiento\n",
        "\n",
        "def leer_letra(cancion):\n",
        "    with open(cancion, 'r') as file:\n",
        "        # Leer líneas del archivo y omitir las líneas de acordes y espacios vacíos\n",
        "        lineas = [linea.strip() for linea in file.readlines() if not re.match(r'^[-]+ Acordes [-]+$', linea) and linea.strip()]\n",
        "        return ' '.join(lineas).lower()\n",
        "\n",
        "def dividir_palabras(letra):\n",
        "    # Dividir la letra en palabras\n",
        "    return re.findall(r'\\b\\w+\\b', letra)\n",
        "\n",
        "def encontrar_rimas(palabras):\n",
        "    # Identificar las últimas sílabas de cada palabra como posible rima\n",
        "    return [re.findall(r'[aeiou]+[^aeiou]*$', palabra) for palabra in palabras]\n",
        "\n",
        "def analizar_sentimiento(letra):\n",
        "    # Utilizar TextBlob para el análisis de sentimiento\n",
        "    blob = TextBlob(letra)\n",
        "    return blob.sentiment.polarity\n",
        "\n",
        "def analizar_bigramas_trigramas(palabras):\n",
        "    bigramas = [f\"{palabras[i]} {palabras[i + 1]}\" for i in range(len(palabras) - 1)]\n",
        "    trigramas = [f\"{palabras[i]} {palabras[i + 1]} {palabras[i + 2]}\" for i in range(len(palabras) - 2)]\n",
        "\n",
        "    contador_bigramas = Counter(bigramas)\n",
        "    contador_trigramas = Counter(trigramas)\n",
        "\n",
        "    return contador_bigramas.most_common(5), contador_trigramas.most_common(5)\n",
        "\n",
        "def analizar_letra(cancion):\n",
        "    letra = leer_letra(cancion)\n",
        "    palabras = dividir_palabras(letra)\n",
        "    rimas = encontrar_rimas(palabras)\n",
        "\n",
        "    # Eliminar palabras vacías\n",
        "    palabras = [palabra for palabra in palabras if palabra not in ['and', 'the', 'is', 'i', 'you', 'it', 'for', 'my', 'to', 'in', 'of', 'a', 'but', 'me']]\n",
        "\n",
        "    # Contar palabras más frecuentes\n",
        "    contador_palabras = Counter(palabras)\n",
        "    palabras_comunes = contador_palabras.most_common(10)\n",
        "\n",
        "    # Análisis de sentimiento\n",
        "    sentimiento = analizar_sentimiento(letra)\n",
        "\n",
        "    # Análisis de bigramas y trigramas\n",
        "    bigramas, trigramas = analizar_bigramas_trigramas(palabras)\n",
        "\n",
        "    print(f\"Rimas encontradas: {rimas}\")\n",
        "    print(f\"Palabras más comunes: {palabras_comunes}\")\n",
        "    print(f\"Sentimiento de la canción: {sentimiento}\")\n",
        "    print(f\"Bigramas más comunes: {bigramas}\")\n",
        "    print(f\"Trigramas más comunes: {trigramas}\")"
      ],
      "metadata": {
        "id": "4OY13rwZuodR"
      },
      "execution_count": 15,
      "outputs": []
    },
    {
      "cell_type": "code",
      "source": [
        "cancion = \"/content/drive/MyDrive/LETRAS/Taylor Swift - Fortnight (feat. Post Malone).txt\"  # Path\n",
        "analizar_letra(cancion)"
      ],
      "metadata": {
        "colab": {
          "base_uri": "https://localhost:8080/"
        },
        "id": "AGGX-vD0t3j1",
        "outputId": "d0186055-265b-4d4f-8bc5-206aa3c38953"
      },
      "execution_count": 16,
      "outputs": [
        {
          "output_type": "stream",
          "name": "stdout",
          "text": [
            "Rimas encontradas: [['or'], ['ift'], ['ight'], ['eat'], ['ost'], ['e'], ['e'], [], [], ['i'], ['as'], ['ed'], ['o'], ['e'], ['ent'], ['ay'], [], [], [], [], ['ut'], ['ey'], ['ot'], ['o'], ['e'], ['and'], ['et'], ['e'], ['e'], [], [], ['i'], ['as'], ['a'], ['ing'], ['ic'], ['ill'], ['ody'], [], [], [], [], ['ed'], [], ['ew'], ['ic'], ['e'], [], [], [], [], ['all'], ['of'], ['is'], ['o'], ['ay'], ['i'], ['e'], ['ou'], ['e'], ['ay'], [], [], ['ut'], ['ou'], ['e'], ['e'], ['on'], ['e'], [], [], ['and'], ['o'], ['e'], ['e'], [], ['o'], ['e'], [], [], [], [], ['ut'], ['at'], ['out'], ['our'], ['uiet'], ['on'], ['e'], [], [], ['and'], ['or'], ['a'], ['ight'], ['e'], ['e'], ['e'], ['er'], ['ing'], ['o'], ['ou'], [], [], [], ['es'], ['ask'], ['out'], ['e'], ['er'], ['e'], [], [], ['ow'], ['ou'], ['e'], ['in'], [], ['ard'], ['ed'], ['o'], ['ood'], ['ours'], [], [], [], ['our'], ['e'], ['ers'], ['ers'], ['i'], ['a'], ['ill'], ['er'], ['e'], [], ['all'], [], ['ings'], ['e'], ['ays'], [], [], [], [], ['uck'], ['in'], ['an'], ['ess'], ['uary'], ['e'], [], [], ['i'], ['ook'], ['e'], ['e'], ['e'], ['on'], ['ug'], [], [], [], [], ['e'], ['ects'], ['e'], ['ary'], ['e'], [], [], ['and'], ['i'], ['e'], ['ou'], ['it'], [], ['ing'], [], ['e'], [], [], [], [], ['and'], ['i'], ['e'], ['ou'], ['it'], [], ['ing'], [], ['e'], ['e'], [], [], ['i'], ['ed'], ['ou'], ['or'], ['only'], ['a'], ['ight'], [], [], [], [], ['i'], ['ed'], ['ou'], ['ut'], ['i'], ['ed'], ['ou'], ['e'], [], [], ['and'], ['or'], ['a'], ['ight'], ['e'], ['e'], ['e'], ['er'], ['ing'], ['o'], ['ou'], [], [], [], ['es'], ['ask'], ['out'], ['e'], ['er'], ['e'], [], [], ['ow'], ['ou'], ['e'], ['in'], [], ['ard'], ['ed'], ['o'], ['ood'], ['ours'], [], [], [], ['our'], ['e'], ['ers'], ['ers'], ['i'], ['a'], ['ill'], ['er'], ['e'], [], [], ['and'], ['or'], ['a'], ['ight'], ['e'], ['e'], ['e'], ['er'], ['ing'], ['o'], ['ou'], [], [], [], ['es'], ['e'], ['and'], ['ug'], [], ['er'], ['e'], [], [], ['ow'], ['ou'], ['e'], ['at'], ['e'], ['ox'], ['ed'], ['o'], ['ood'], ['ours'], [], [], [], [], ['and'], ['is'], ['ing'], ['i'], ['a'], ['ill'], ['im'], ['e'], [], [], ['and'], ['i'], ['e'], ['ou'], ['it'], [], ['ing'], [], ['e'], [], [], [], [], ['and'], ['i'], ['e'], ['ou'], ['it'], [], ['ing'], [], ['e'], ['e'], [], [], ['i'], ['ed'], ['ou'], ['or'], ['only'], ['a'], ['ight'], [], [], [], [], ['i'], ['ed'], ['ou'], ['i'], ['ed'], ['ou'], ['e'], [], [], ['and'], ['i'], ['e'], ['ou'], ['it'], [], ['ing'], [], ['e'], [], [], [], [], ['and'], ['i'], ['e'], ['ou'], ['it'], [], ['ing'], [], ['e'], ['e'], [], [], ['i'], ['ed'], ['ou'], ['or'], ['only'], ['a'], ['ight'], [], [], [], [], ['i'], ['ed'], ['ou'], ['i'], ['ed'], ['ou'], ['e'], [], [], ['i'], [], ['ing'], ['a'], ['ut'], ['ou'], ['on'], [], ['ick'], ['up'], [], [], [], ['er'], ['ight'], ['ost'], ['in'], ['a'], ['e'], [], [], ['e'], ['o'], ['a'], ['uy'], ['e'], ['ar'], ['ou'], ['ant'], [], [], [], ['ut'], ['it'], ['on'], [], ['art'], ['up'], ['ill'], ['ou'], ['ouch'], ['ouch'], ['ouch'], ['e'], ['e'], [], [], ['i'], [], ['ing'], ['a'], ['ut'], ['ou'], ['on'], [], ['ick'], ['up'], [], [], [], ['er'], ['ight'], ['ost'], ['in'], ['a'], ['e'], [], [], ['e'], ['o'], ['a'], ['uy'], ['e'], ['ar'], ['ou'], ['ant'], [], [], [], ['ut'], ['it'], ['on'], [], ['art'], ['up'], ['ill'], ['i'], ['ouch'], ['ouch'], ['ouch'], ['ou'], [], [], [], [], [], [], [], [], [], [], [], [], [], [], [], [], [], [], [], [], [], [], [], ['e'], [], [], [], [], [], [], [], [], [], [], [], [], [], [], [], [], [], [], [], [], []]\n",
            "Palabras más comunes: [('m', 60), ('e', 23), ('g', 23), ('c', 22), ('d', 13), ('f', 11), ('4', 10), ('fortnight', 9), ('touched', 9), ('s', 7)]\n",
            "Sentimiento de la canción: 0.31537433155080213\n",
            "Bigramas más comunes: [('g m', 23), ('c m', 22), ('e c', 21), ('d m', 13), ('m g', 11)]\n",
            "Trigramas más comunes: [('e c m', 21), ('d m g', 11), ('m g m', 11), ('f g m', 10), ('m love s', 6)]\n"
          ]
        }
      ]
    },
    {
      "cell_type": "code",
      "source": [
        "from nltk.tokenize import word_tokenize\n",
        "from nltk.probability import FreqDist\n",
        "import nltk\n",
        "nltk.download('punkt')\n",
        "\n",
        "def analizar_estructura(letra):\n",
        "    estrofas = letra.split('\\n\\n')\n",
        "    num_estrofas = len(estrofas)\n",
        "    num_lineas_por_estrofa = [len(estrofa.split('\\n')) for estrofa in estrofas if estrofa]\n",
        "\n",
        "    return num_estrofas, num_lineas_por_estrofa\n",
        "\n",
        "def analizar_tema_topicos(letra):\n",
        "    # Lista de temas o tópicos principales que puedes expandir\n",
        "    temas = ['amor', 'desamor', 'nostalgia', 'angustia', 'esperanza', 'alegría', 'tristeza']\n",
        "    temas_encontrados = {tema: letra.lower().count(tema) for tema in temas}\n",
        "\n",
        "    return temas_encontrados\n",
        "\n",
        "def analizar_lexico(letra):\n",
        "    tokens = word_tokenize(letra)\n",
        "    frecuencia_palabras = FreqDist(tokens)\n",
        "\n",
        "    return frecuencia_palabras.most_common(10)\n",
        "\n",
        "def analizar_repeticion(letra):\n",
        "    tokens = word_tokenize(letra)\n",
        "    repetidos = [item for item, count in Counter(tokens).items() if count > 1]\n",
        "\n",
        "    return repetidos\n",
        "\n",
        "def analizar_letra(cancion):\n",
        "    letra = leer_letra(cancion)\n",
        "    palabras = dividir_palabras(letra)\n",
        "    rimas = encontrar_rimas(palabras)\n",
        "\n",
        "    # Eliminar palabras vacías\n",
        "    palabras = [palabra for palabra in palabras if palabra not in ['and', 'the', 'is', 'i', 'you', 'it', 'for', 'my', 'to', 'in', 'of', 'a', 'but', 'me']]\n",
        "\n",
        "    # Contar palabras más frecuentes\n",
        "    contador_palabras = Counter(palabras)\n",
        "    palabras_comunes = contador_palabras.most_common(10)\n",
        "\n",
        "    # Análisis de sentimiento\n",
        "    sentimiento = analizar_sentimiento(letra)\n",
        "\n",
        "    # Análisis de estructura\n",
        "    estructura = analizar_estructura(letra)\n",
        "\n",
        "    # Análisis de temas/tópicos\n",
        "    temas = analizar_tema_topicos(letra)\n",
        "\n",
        "    # Análisis léxico\n",
        "    lexico = analizar_lexico(letra)\n",
        "\n",
        "    # Palabras repetidas\n",
        "    repetidos = analizar_repeticion(letra)\n",
        "\n",
        "    print(f\"Rimas encontradas: {rimas}\")\n",
        "    print(f\"Palabras más comunes: {palabras_comunes}\")\n",
        "    print(f\"Sentimiento de la canción: {sentimiento}\")\n",
        "    print(f\"Estructura de la letra: {estructura}\")\n",
        "    print(f\"Temas/Tópicos principales: {temas}\")\n",
        "    print(f\"Uso léxico: {lexico}\")\n",
        "    print(f\"Palabras repetidas: {repetidos}\")"
      ],
      "metadata": {
        "colab": {
          "base_uri": "https://localhost:8080/"
        },
        "id": "nhN5QaHGHJM1",
        "outputId": "d2e3c963-a9bd-46d3-9d12-ba0bb78db9a5"
      },
      "execution_count": 17,
      "outputs": [
        {
          "output_type": "stream",
          "name": "stderr",
          "text": [
            "[nltk_data] Downloading package punkt to /root/nltk_data...\n",
            "[nltk_data]   Package punkt is already up-to-date!\n"
          ]
        }
      ]
    },
    {
      "cell_type": "code",
      "source": [
        "cancion = \"/content/drive/MyDrive/LETRAS/Taylor Swift - Fortnight (feat. Post Malone).txt\"  # Path\n",
        "analizar_letra(cancion)"
      ],
      "metadata": {
        "colab": {
          "base_uri": "https://localhost:8080/"
        },
        "id": "SYCmyk60HOLd",
        "outputId": "d2de4400-7fcf-41e0-8d93-bcb48b1824ee"
      },
      "execution_count": 18,
      "outputs": [
        {
          "output_type": "stream",
          "name": "stdout",
          "text": [
            "Rimas encontradas: [['or'], ['ift'], ['ight'], ['eat'], ['ost'], ['e'], ['e'], [], [], ['i'], ['as'], ['ed'], ['o'], ['e'], ['ent'], ['ay'], [], [], [], [], ['ut'], ['ey'], ['ot'], ['o'], ['e'], ['and'], ['et'], ['e'], ['e'], [], [], ['i'], ['as'], ['a'], ['ing'], ['ic'], ['ill'], ['ody'], [], [], [], [], ['ed'], [], ['ew'], ['ic'], ['e'], [], [], [], [], ['all'], ['of'], ['is'], ['o'], ['ay'], ['i'], ['e'], ['ou'], ['e'], ['ay'], [], [], ['ut'], ['ou'], ['e'], ['e'], ['on'], ['e'], [], [], ['and'], ['o'], ['e'], ['e'], [], ['o'], ['e'], [], [], [], [], ['ut'], ['at'], ['out'], ['our'], ['uiet'], ['on'], ['e'], [], [], ['and'], ['or'], ['a'], ['ight'], ['e'], ['e'], ['e'], ['er'], ['ing'], ['o'], ['ou'], [], [], [], ['es'], ['ask'], ['out'], ['e'], ['er'], ['e'], [], [], ['ow'], ['ou'], ['e'], ['in'], [], ['ard'], ['ed'], ['o'], ['ood'], ['ours'], [], [], [], ['our'], ['e'], ['ers'], ['ers'], ['i'], ['a'], ['ill'], ['er'], ['e'], [], ['all'], [], ['ings'], ['e'], ['ays'], [], [], [], [], ['uck'], ['in'], ['an'], ['ess'], ['uary'], ['e'], [], [], ['i'], ['ook'], ['e'], ['e'], ['e'], ['on'], ['ug'], [], [], [], [], ['e'], ['ects'], ['e'], ['ary'], ['e'], [], [], ['and'], ['i'], ['e'], ['ou'], ['it'], [], ['ing'], [], ['e'], [], [], [], [], ['and'], ['i'], ['e'], ['ou'], ['it'], [], ['ing'], [], ['e'], ['e'], [], [], ['i'], ['ed'], ['ou'], ['or'], ['only'], ['a'], ['ight'], [], [], [], [], ['i'], ['ed'], ['ou'], ['ut'], ['i'], ['ed'], ['ou'], ['e'], [], [], ['and'], ['or'], ['a'], ['ight'], ['e'], ['e'], ['e'], ['er'], ['ing'], ['o'], ['ou'], [], [], [], ['es'], ['ask'], ['out'], ['e'], ['er'], ['e'], [], [], ['ow'], ['ou'], ['e'], ['in'], [], ['ard'], ['ed'], ['o'], ['ood'], ['ours'], [], [], [], ['our'], ['e'], ['ers'], ['ers'], ['i'], ['a'], ['ill'], ['er'], ['e'], [], [], ['and'], ['or'], ['a'], ['ight'], ['e'], ['e'], ['e'], ['er'], ['ing'], ['o'], ['ou'], [], [], [], ['es'], ['e'], ['and'], ['ug'], [], ['er'], ['e'], [], [], ['ow'], ['ou'], ['e'], ['at'], ['e'], ['ox'], ['ed'], ['o'], ['ood'], ['ours'], [], [], [], [], ['and'], ['is'], ['ing'], ['i'], ['a'], ['ill'], ['im'], ['e'], [], [], ['and'], ['i'], ['e'], ['ou'], ['it'], [], ['ing'], [], ['e'], [], [], [], [], ['and'], ['i'], ['e'], ['ou'], ['it'], [], ['ing'], [], ['e'], ['e'], [], [], ['i'], ['ed'], ['ou'], ['or'], ['only'], ['a'], ['ight'], [], [], [], [], ['i'], ['ed'], ['ou'], ['i'], ['ed'], ['ou'], ['e'], [], [], ['and'], ['i'], ['e'], ['ou'], ['it'], [], ['ing'], [], ['e'], [], [], [], [], ['and'], ['i'], ['e'], ['ou'], ['it'], [], ['ing'], [], ['e'], ['e'], [], [], ['i'], ['ed'], ['ou'], ['or'], ['only'], ['a'], ['ight'], [], [], [], [], ['i'], ['ed'], ['ou'], ['i'], ['ed'], ['ou'], ['e'], [], [], ['i'], [], ['ing'], ['a'], ['ut'], ['ou'], ['on'], [], ['ick'], ['up'], [], [], [], ['er'], ['ight'], ['ost'], ['in'], ['a'], ['e'], [], [], ['e'], ['o'], ['a'], ['uy'], ['e'], ['ar'], ['ou'], ['ant'], [], [], [], ['ut'], ['it'], ['on'], [], ['art'], ['up'], ['ill'], ['ou'], ['ouch'], ['ouch'], ['ouch'], ['e'], ['e'], [], [], ['i'], [], ['ing'], ['a'], ['ut'], ['ou'], ['on'], [], ['ick'], ['up'], [], [], [], ['er'], ['ight'], ['ost'], ['in'], ['a'], ['e'], [], [], ['e'], ['o'], ['a'], ['uy'], ['e'], ['ar'], ['ou'], ['ant'], [], [], [], ['ut'], ['it'], ['on'], [], ['art'], ['up'], ['ill'], ['i'], ['ouch'], ['ouch'], ['ouch'], ['ou'], [], [], [], [], [], [], [], [], [], [], [], [], [], [], [], [], [], [], [], [], [], [], [], ['e'], [], [], [], [], [], [], [], [], [], [], [], [], [], [], [], [], [], [], [], [], []]\n",
            "Palabras más comunes: [('m', 60), ('e', 23), ('g', 23), ('c', 22), ('d', 13), ('f', 11), ('4', 10), ('fortnight', 9), ('touched', 9), ('s', 7)]\n",
            "Sentimiento de la canción: 0.31537433155080213\n",
            "Estructura de la letra: (1, [1])\n",
            "Temas/Tópicos principales: {'amor': 0, 'desamor': 0, 'nostalgia': 0, 'angustia': 0, 'esperanza': 0, 'alegría': 0, 'tristeza': 0}\n",
            "Uso léxico: [('#', 69), ('m', 58), (',', 30), ('you', 29), ('i', 25), ('e', 23), ('g', 23), ('c', 22), ('d', 13), ('and', 12)]\n",
            "Palabras repetidas: ['fortnight', '(', ')', 'e', 'c', '#', 'm', 'i', 'was', 'to', 'd', 'g', 'but', 'come', 'and', 'me', 'a', 'till', 'my', 'all', 'you', \"'re\", 'the', \"'s\", 'about', 'your', 'for', ',', 'there', 'we', 'were', 'forever', 'running', 'f', 'sometimes', 'ask', 'weather', 'now', 'in', 'backyard', 'turned', 'into', 'good', 'neighbours', 'wife', 'waters', 'flowers', 'wan', 'na', 'kill', 'her', 'cm', 'love', 'it', 'ruining', 'life', 'touched', 'only', \"'m\", 'calling', 'ya', 'wo', \"n't\", 'pick', 'up', '‘', 'nother', 'lost', 'america', 'move', 'florida', 'buy', 'car', 'want', 'start', 'touch', '=', 'x', '4', '6', '5', '3', '1', '2', '0']\n"
          ]
        }
      ]
    }
  ]
}